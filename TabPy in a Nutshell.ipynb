{
 "cells": [
  {
   "cell_type": "markdown",
   "metadata": {
    "collapsed": true
   },
   "source": [
    "# TabPy in a Nutshell \n",
    "### Functions written in Python and referenced from Tableau\n",
    "\n",
    "By: Alfredo Pirrone<br />\n",
    "Date: November 12, 2017<br />\n",
    "\n",
    "In the Tableau forums, in march 2017, [Nico Rabi](https://community.tableau.com/people/nico.raby) posted a question under the header [TabPy remote function call](https://community.tableau.com/message/592086#592086), It looks like he was not satisfied with the answer, as he did not marked any of the replies received as \"correct answer\". Maybe he expected a bit more explanation on what was going on, and for sure he has not read [Tableau and Python Integration](https://community.tableau.com/docs/DOC-10856) by [Bora Beran](https://community.tableau.com/people/bora.beran). If you have not read it either, please go and read it now and come back afterwards.\n",
    "\n",
    "I will use Nico's case to illustrate the connection between Tableau and TabPy server, hopefully helping the reader to understand the basic concepts involved in connecting both environments. \n",
    "\n",
    "This notebook is aimed to the uninitiated. Yet, I assumed you have already successfully installed tabpy in your machine, and that you have succeed in connecting Tableau to the tabpy server."
   ]
  },
  {
   "cell_type": "markdown",
   "metadata": {
    "collapsed": true
   },
   "source": [
    "### 1. Establishing a connection\n",
    "Let us start by establishing a connection with the TabPy server, so that we can deploy our functions.\n",
    "Open an IPython session and type the following commands:"
   ]
  },
  {
   "cell_type": "code",
   "execution_count": 9,
   "metadata": {
    "collapsed": true
   },
   "outputs": [],
   "source": [
    "import tabpy_client\n",
    "conn = tabpy_client.Client(\"http://localhost:9004/\")"
   ]
  },
  {
   "cell_type": "markdown",
   "metadata": {},
   "source": [
    "I am using python 3.6.3. If you are using python 2.7, it might be necessary to adjust part of the code.\n",
    "\n",
    "Let's check what version you are using:"
   ]
  },
  {
   "cell_type": "code",
   "execution_count": 10,
   "metadata": {},
   "outputs": [
    {
     "name": "stdout",
     "output_type": "stream",
     "text": [
      "3.6.3 |Anaconda, Inc.| (default, Nov  8 2017, 18:10:31) \n",
      "[GCC 4.2.1 Compatible Clang 4.0.1 (tags/RELEASE_401/final)]\n"
     ]
    }
   ],
   "source": [
    "import sys\n",
    "print(sys.version)"
   ]
  },
  {
   "cell_type": "markdown",
   "metadata": {},
   "source": [
    "### 2. What was wrong with the simple \"add\" function\n",
    "\n",
    "Nico tried to add two numbers in Tableau using the following python function:"
   ]
  },
  {
   "cell_type": "code",
   "execution_count": 11,
   "metadata": {
    "collapsed": true
   },
   "outputs": [],
   "source": [
    "def add_simple(a, b):\n",
    "    \"\"\" adds two objects and returns an object \"\"\"\n",
    "    return(a + b)\n",
    "\n",
    "# let us deploy the function to have it available in Tableau\n",
    "conn.deploy('add_simple', add_simple, 'adds two objects and returns an object', override = True)"
   ]
  },
  {
   "attachments": {},
   "cell_type": "markdown",
   "metadata": {},
   "source": [
    "Please open the enclosed workbook \"tabpy_client_example.twb\" and go to sheet \"Add Simple\"\n",
    "\n",
    "Trying to use this function in Tableau will produce an error: *\"Unexpected number of results returned by SCRIPT function. Function expected 10 values; 20 values were returned.\"*\n",
    "\n",
    "The error comes from a calculated field in Tableau that executes the recently created **\"add_simple\"** function:\n",
    "![images/Calculated%20field%20using%20Python.jpg](images/Calculated%20field%20using%20Python.jpg)\n",
    "\n",
    "To understand what was wrong, it is convenient to test this function in Python:"
   ]
  },
  {
   "cell_type": "code",
   "execution_count": 12,
   "metadata": {},
   "outputs": [
    {
     "name": "stdout",
     "output_type": "stream",
     "text": [
      "3\n"
     ]
    }
   ],
   "source": [
    "# Let us start with something really easy: 1 + 2 = 3\n",
    "print(add_simple(1,2))  "
   ]
  },
  {
   "cell_type": "code",
   "execution_count": 13,
   "metadata": {},
   "outputs": [
    {
     "name": "stdout",
     "output_type": "stream",
     "text": [
      "Hello World\n"
     ]
    }
   ],
   "source": [
    "# But now we realize that we could \"add\" other things\n",
    "print(add_simple(\"Hello \", \"World\"))"
   ]
  },
  {
   "cell_type": "code",
   "execution_count": 14,
   "metadata": {},
   "outputs": [
    {
     "name": "stdout",
     "output_type": "stream",
     "text": [
      "[1, 2, 3, 10, 20, 30]\n"
     ]
    }
   ],
   "source": [
    "# What if we add two lists?\n",
    "x = [1, 2, 3]\n",
    "y = [10, 20, 30]\n",
    "print(add_simple(x, y))"
   ]
  },
  {
   "cell_type": "markdown",
   "metadata": {},
   "source": [
    "Now we see why Nico got in trouble: When Tableu connects to the tabpy, it sends the server a python list for each parameter required by the invoked function. The list will contain a number of elements equal to the number of marks in the view (including sub-totals and grand totals). Therefore, in this example, Tableau sends a list with 10 elements for the parameter **\"a\"** and a second list of 10 elements for the parameter **\"b\"**. \n",
    "In Python, adding two lists results in the concatenation of the lists. Evaluating **a + b** will result in a list of 20 elements which is not what is needed. In this case, Tableau needed a list of 10 elements to fulfill the logic of the view. \n",
    "\n",
    "To demonstrate that this is indeed the problem, let us consider a different version for **add_simple**: "
   ]
  },
  {
   "cell_type": "code",
   "execution_count": 15,
   "metadata": {
    "collapsed": true
   },
   "outputs": [],
   "source": [
    "def add_simple(a, b, verbose = True):\n",
    "    \"\"\" adds two objects and returns an object \"\"\"\n",
    "    result = a + b\n",
    "    if verbose:\n",
    "        print('-->  add_simple(\\n        ',a,',\\n        ',b, '\\n        ) =', result, '\\n')\n",
    "    return(result)\n",
    "\n",
    "conn.deploy('add_simple', add_simple, 'suma dos objetos y devuelve un objeto', override = True)\n"
   ]
  },
  {
   "cell_type": "markdown",
   "metadata": {},
   "source": [
    "Now go back to Tableau and refresh the view. Once you get the error, go to the *TabPy server console*. This is what you will see:"
   ]
  },
  {
   "attachments": {},
   "cell_type": "markdown",
   "metadata": {},
   "source": [
    "!['images/TabPy Server console with add_sum results.jpg?raw=true'](images/TabPy%20Server%20console%20with%20add_sum%20results.jpg)\n",
    "\n",
    "Ok. Now we know what happened for sure. Writing to the console is a convenient way to exactly explore what is going on between Tableau and TabPy. Yet, it is also possible to test the endpoint from python as we will see shortly."
   ]
  },
  {
   "cell_type": "markdown",
   "metadata": {},
   "source": [
    "### 3. Some TabPy client functions\n",
    "\n"
   ]
  },
  {
   "cell_type": "markdown",
   "metadata": {},
   "source": [
    "   Before discussing different options to implement the add function, let us explore the functionalities provided with the tabpy_client. Remember that you can access the documentation for a module and for its functions using the question mark (?) in ipython (or any IDE using ipython like Spyder).\n",
    "\n"
   ]
  },
  {
   "cell_type": "code",
   "execution_count": 16,
   "metadata": {
    "collapsed": true
   },
   "outputs": [],
   "source": [
    "# You could create an alias for your endpoint (which in this case is your function). \n",
    "# Then you will be able to access your endpoint by either name.\n",
    "conn.alias('add','add_simple')\n",
    "\n",
    "# Even though it seems that nothing happened, now you have a new endpoint call 'add' (you will see it later"
   ]
  },
  {
   "cell_type": "code",
   "execution_count": 17,
   "metadata": {},
   "outputs": [
    {
     "data": {
      "text/plain": [
       "{'model': 'add_simple',\n",
       " 'response': [1, 2, 3, 4, 5, 6, 7, 8, 9, 10, 5, 10, 4, 6, 3, 9, 2, 1, 7, 8],\n",
       " 'uuid': 'c94a8460-33a3-4318-995c-4fd912cdf4d6',\n",
       " 'version': 4}"
      ]
     },
     "execution_count": 17,
     "metadata": {},
     "output_type": "execute_result"
    }
   ],
   "source": [
    "# If you want to execute a function from python in the exact way Tableau will do it, \n",
    "#   use the query function...\n",
    "\n",
    "firstNumber = [1, 2, 3, 4, 5, 6, 7, 8, 9, 10]\n",
    "secondNumber = [5, 10, 4, 6, 3, 9, 2, 1, 7, 8]\n",
    "\n",
    "conn.query('add', firstNumber, secondNumber)\n"
   ]
  },
  {
   "cell_type": "markdown",
   "metadata": {},
   "source": [
    "In the example above , notice that we executed the function \"add\" (alias of \"add-simple\") passing parameters\n",
    "\"firstNumber\" and \"secondNumber\".\n",
    "\n",
    "As a response we obtained a dictionary where the returned value is under the key \"response\".\n",
    "Now look back at the Calculated Field formula. As you can see, we invoked this function by calling:\n",
    "\n",
    "    tabpy.query('add_simple', _arg1, _arg2)['response']\n",
    "    \n",
    "Observe that we are simply retreiving the value under the key \"response\" from the returned dictionary.\n",
    "\n",
    "Of course, as discussed before, using this calculated field will end in an an error. Yet this paragraph shows how to run a deployed endpoint at the tabpy server from python.\n",
    "\n",
    "\n"
   ]
  },
  {
   "cell_type": "code",
   "execution_count": 18,
   "metadata": {},
   "outputs": [
    {
     "data": {
      "text/plain": [
       "[1, 2, 3, 4, 5, 6, 7, 8, 9, 10, 5, 10, 4, 6, 3, 9, 2, 1, 7, 8]"
      ]
     },
     "execution_count": 18,
     "metadata": {},
     "output_type": "execute_result"
    }
   ],
   "source": [
    "conn.query('add', firstNumber, secondNumber)['response']"
   ]
  },
  {
   "cell_type": "code",
   "execution_count": 19,
   "metadata": {},
   "outputs": [
    {
     "name": "stdout",
     "output_type": "stream",
     "text": [
      "\n",
      "ENDPOINT NAME: add_simple\n",
      "   version : 4\n",
      "   type : model\n",
      "   status : LoadSuccessful\n",
      "   last_error : None\n",
      "\n",
      "ENDPOINT NAME: add\n",
      "   version : 2\n",
      "   type : alias\n",
      "   status : LoadSuccessful\n",
      "   last_error : None\n",
      "\n",
      "ENDPOINT NAME: add_numpy\n",
      "   version : 1\n",
      "   type : model\n",
      "   status : LoadSuccessful\n",
      "   last_error : None\n",
      "\n",
      "ENDPOINT NAME: add_only_first\n",
      "   version : 1\n",
      "   type : model\n",
      "   status : LoadSuccessful\n",
      "   last_error : None\n",
      "\n",
      "ENDPOINT NAME: add_lists\n",
      "   version : 1\n",
      "   type : model\n",
      "   status : LoadSuccessful\n",
      "   last_error : None\n",
      "\n",
      "ENDPOINT NAME: add_with\n",
      "   version : 1\n",
      "   type : model\n",
      "   status : LoadSuccessful\n",
      "   last_error : None\n"
     ]
    }
   ],
   "source": [
    "# the method get_status returns a dictionary with info on the status of deployed endpoints\n",
    "#    and maybe useful for debugging \n",
    "for funcName, dic in conn.get_status().items():\n",
    "    print(\"\\nENDPOINT NAME: \"+funcName)\n",
    "    for name, val in dic.items():\n",
    "        print(\"   \"+name+\" : \"+str(val))"
   ]
  },
  {
   "cell_type": "code",
   "execution_count": 20,
   "metadata": {},
   "outputs": [
    {
     "name": "stdout",
     "output_type": "stream",
     "text": [
      "\n",
      "ENDPOINT:add_simple\n",
      "   description : suma dos objetos y devuelve un objeto\n",
      "   creation_time : 2017-11-20 04:14:27\n",
      "   version : 4\n",
      "   type : model\n",
      "   schema : None\n",
      "   dependencies : []\n",
      "   last_modified_time : 2017-12-04 03:38:29\n",
      "   name : add_simple\n",
      "\n",
      "ENDPOINT:add\n",
      "   description : Alias for add_simple\n",
      "   creation_time : 2017-11-20 04:14:27\n",
      "   version : 2\n",
      "   type : alias\n",
      "   schema : None\n",
      "   dependencies : ['add_simple']\n",
      "   last_modified_time : 2017-12-04 03:38:29\n",
      "   name : add\n",
      "\n",
      "ENDPOINT:add_numpy\n",
      "   description : adds two array_like objects using numpy and returns a list\n",
      "   creation_time : 2017-11-20 04:14:27\n",
      "   version : 1\n",
      "   type : model\n",
      "   schema : None\n",
      "   dependencies : []\n",
      "   last_modified_time : 2017-11-20 04:14:27\n",
      "   name : add_numpy\n",
      "\n",
      "ENDPOINT:add_only_first\n",
      "   description : adds the first objects of two array_like objects, returns an object\n",
      "   creation_time : 2017-11-20 04:14:27\n",
      "   version : 1\n",
      "   type : model\n",
      "   schema : None\n",
      "   dependencies : []\n",
      "   last_modified_time : 2017-11-20 04:14:27\n",
      "   name : add_only_first\n",
      "\n",
      "ENDPOINT:add_lists\n",
      "   description : adds array_like objects item by item, returns an array_like object\n",
      "   creation_time : 2017-11-20 04:14:28\n",
      "   version : 1\n",
      "   type : model\n",
      "   schema : None\n",
      "   dependencies : []\n",
      "   last_modified_time : 2017-11-20 04:14:28\n",
      "   name : add_lists\n",
      "\n",
      "ENDPOINT:add_with\n",
      "   description : adds array_like objects item by item, uses the designated model\n",
      "   creation_time : 2017-11-20 04:15:06\n",
      "   version : 1\n",
      "   type : model\n",
      "   schema : None\n",
      "   dependencies : []\n",
      "   last_modified_time : 2017-11-20 04:15:06\n",
      "   name : add_with\n"
     ]
    }
   ],
   "source": [
    "# you can also obtain other info about your endpoints using \n",
    "for funcName, dic in conn.get_endpoints().items():\n",
    "    print(\"\\nENDPOINT:\" + funcName)\n",
    "    for name, val in dic.items():\n",
    "        print(\"   \" + name + \" : \"+str(val))"
   ]
  },
  {
   "cell_type": "markdown",
   "metadata": {},
   "source": [
    "### 4. Back to Nico's problem"
   ]
  },
  {
   "cell_type": "markdown",
   "metadata": {},
   "source": [
    "[Zhouyi Zhang](https://community.tableau.com/people/zhouyi.zhang) gave the answer Nico was looking for. Zhouyi used NumPy. But my guess is that Nico was not satisfied with this suggestion because he may have not understood what was wrong in his simpler solution.\n",
    "\n",
    "In [48] I illustrated the reason why the simple solution does not work. In contrast, the NumPy solution does indeed work because the addition of array_like objects under NumPy behaves as required in this case (more info: [NumPy site](http://www.numpy.org):"
   ]
  },
  {
   "cell_type": "code",
   "execution_count": 21,
   "metadata": {
    "collapsed": true
   },
   "outputs": [],
   "source": [
    "def add_numpy(a, b, verbose = True):\n",
    "    \"\"\" adds two array_like objects using numpy and returns a list\"\"\"\n",
    "    import numpy as np\n",
    "    result = np.add(a, b).tolist()\n",
    "    if verbose:\n",
    "        print('-->  add_numpy(\\n        ',a,',\\n        ',b, '\\n        ) =',result, '\\n')\n",
    "    return(result)\n",
    "\n",
    "# let us deploy the function to have it available in Tableau\n",
    "conn.deploy('add_numpy', add_numpy, \n",
    "            'adds two array_like objects using numpy and returns a list', override = True)"
   ]
  },
  {
   "cell_type": "code",
   "execution_count": 22,
   "metadata": {},
   "outputs": [
    {
     "name": "stdout",
     "output_type": "stream",
     "text": [
      "a =      [1, 2, 3, 4, 5, 6, 7, 8, 9, 10]\n",
      "b =      [5, 10, 4, 6, 3, 9, 2, 1, 7, 8]\n",
      "a + b =  [6, 12, 7, 10, 8, 15, 9, 9, 16, 18]\n"
     ]
    }
   ],
   "source": [
    "# let us test it locally\n",
    "print('a =     ', firstNumber)\n",
    "print('b =     ', secondNumber)\n",
    "print('a + b = ', add_numpy(firstNumber, secondNumber, verbose = False))"
   ]
  },
  {
   "cell_type": "code",
   "execution_count": 23,
   "metadata": {},
   "outputs": [
    {
     "name": "stdout",
     "output_type": "stream",
     "text": [
      "a + b =  [6, 12, 7, 10, 8, 15, 9, 9, 16, 18]\n"
     ]
    }
   ],
   "source": [
    "# and also let us test it remotely\n",
    "print('a + b = ',conn.query('add_numpy', firstNumber, secondNumber)['response'])"
   ]
  },
  {
   "cell_type": "markdown",
   "metadata": {},
   "source": [
    "Look at the sheet \"Add Numpy\" in the enclosed Tableau workbook to see this function working in our sample data.\n",
    "\n",
    "Yet, Nico looked like he did not want a solution that uses an external library (maybe he didn't care) but Zhouyi also gave the following suggestion:"
   ]
  },
  {
   "cell_type": "code",
   "execution_count": 24,
   "metadata": {},
   "outputs": [
    {
     "name": "stdout",
     "output_type": "stream",
     "text": [
      "a + b =  6\n"
     ]
    }
   ],
   "source": [
    "def add_only_first(a, b, verbose = True):\n",
    "    \"\"\" adds the first objects of two array_like objects, returns an object\"\"\"\n",
    "    if verbose:\n",
    "        print('-->  add_only_first(\\n        ',a,',\\n        ',b, '\\n        ) =', a[0] + b[0], '\\n')\n",
    "    return(a[0] + b[0])\n",
    "\n",
    "conn.deploy('add_only_first', add_only_first, \n",
    "            'adds the first objects of two array_like objects, returns an object', override = True)\n",
    "\n",
    "# Let us test it at once on the tabpy server\n",
    "print('a + b = ',conn.query('add_only_first', firstNumber, secondNumber)['response'])"
   ]
  },
  {
   "cell_type": "markdown",
   "metadata": {},
   "source": [
    "This solution did not use NumPy, but this time we got only a single number: the addition of the first two elements 1 + 5.\n",
    "\n",
    "When Tableau receives a scalar type (a single data item) for the TabPy server, Tableau assigns that value to all marks. See the effect on the sheet **\"add_only_first\"** in the accompanying workbook. \n",
    "\n",
    "Probably, **\"add_only_first\"** is not an acceptable solution for this example, because lacks generality. It will work well only when we know that the level of detail in use will provide a single element. \n",
    "\n"
   ]
  },
  {
   "cell_type": "markdown",
   "metadata": {},
   "source": [
    "### 5. The answer Nico did not get on March 2017\n",
    "\n",
    "Anybody who have read \"[Tableau Integration with Python - Step by Step](https://community.tableau.com/thread/236479)\" probably knows already the solution I am about to give you: develop an endpoint that adds two lists element-by-element with native python: "
   ]
  },
  {
   "cell_type": "code",
   "execution_count": 25,
   "metadata": {},
   "outputs": [
    {
     "name": "stdout",
     "output_type": "stream",
     "text": [
      "a + b =  [6, 12, 7, 10, 8, 15, 9, 9, 16, 18]\n"
     ]
    }
   ],
   "source": [
    "def add_lists(a, b, verbose = True):\n",
    "    \"\"\" adds array_like objects item by item, returns an array_like object \"\"\"\n",
    "    result = []\n",
    "    for i in range(len(a)):\n",
    "        result.append(a[i] + b[i])\n",
    "    if verbose:\n",
    "        print('-->  add_lists(\\n        ',a,',\\n        ',b, '\\n        ) =', result, '\\n')\n",
    "    return(result)\n",
    "\n",
    "conn.deploy('add_lists', add_lists, \n",
    "            'adds array_like objects item by item, returns an array_like object', override = True)\n",
    "\n",
    "# Let us test it at once on the tabpy server\n",
    "print('a + b = ',conn.query('add_lists', firstNumber, secondNumber)['response'])"
   ]
  },
  {
   "cell_type": "markdown",
   "metadata": {},
   "source": [
    "### 6. Performance considerations\n",
    "\n",
    "Let me finish by proposing two performance considerations:\n",
    "\n",
    "#### 6.1 Always consider different implementation options\n",
    "\n",
    "You may have learnt that for data science applications it is always advisable to use NumPy structures rather than native python lists for flexibility and performance considerations. \n",
    "\n",
    "But too often in our lives we get deceived by paradigms imposed upon us by education, culture or circumstances. we should question them and experiment. \n",
    "\n",
    "Let us compare the execution time for **add_numpy** vs **add_lists**:\n"
   ]
  },
  {
   "cell_type": "code",
   "execution_count": 26,
   "metadata": {},
   "outputs": [
    {
     "name": "stdout",
     "output_type": "stream",
     "text": [
      "4.83 µs ± 145 ns per loop (mean ± std. dev. of 7 runs, 100000 loops each)\n",
      "1.8 µs ± 31.4 ns per loop (mean ± std. dev. of 7 runs, 1000000 loops each)\n"
     ]
    }
   ],
   "source": [
    "%timeit add_numpy(firstNumber, secondNumber, verbose = False)\n",
    "%timeit add_lists(firstNumber, secondNumber, verbose = False)"
   ]
  },
  {
   "cell_type": "markdown",
   "metadata": {},
   "source": [
    "As you can see, **add_lists** is the absolute winner in this case. At least from this point of view.\n",
    "\n",
    "I am not suggesting you should prefer native python code over NumPy. **I just want to point out that to achieve a decent performance in a Tableau workbook you may need to carefully consider different implementation options**. Do your homework: conceptualize options, develop them, test and measure them, analize and choose the best option for your use case.\n",
    "\n",
    "#### 6.2 Reduce the number of interactions between Tableau and the TabPy Server\n",
    "\n",
    "a few microseconds may mean nothing in the overall performance of a Tableau view compared to the overhead required to actually execute an endpoint call.\n",
    "\n",
    "For example, let us assume we want to control which **add_xxxx** model we want to use. As we have already developed an endpoint for every **add_xxxx** version considered, we could simply create a Tableau parameter (I will call it \"WhichSum\") and then use a calculated field to execute the desired endpoint. Please refer to the sheet \"Add Conditional - SLOW\" in the Tableau Workbook.\n",
    "\n",
    "This is one way to define the calculated field:\n",
    "   *(I have set NULL for UseSimple because add_simple ends in an error)*:"
   ]
  },
  {
   "attachments": {},
   "cell_type": "markdown",
   "metadata": {},
   "source": [
    "!['images/Calculated Field with multiple TabPy references.jpg?raw=true'](images/Calculated%20Field%20with%20multiple%20TabPy%20references.jpg)"
   ]
  },
  {
   "cell_type": "markdown",
   "metadata": {},
   "source": [
    "There are no critical errors in this implementation. However, it will be relatively slow.  Tableau is not short-circuiting expressions (at least when TabPy is involved). This means that Tableau will evaluate all references in a calculated field, even though some intermediate results are not logically required to compute the final value.\n",
    "As a consequence, no matter the value of *[Whichsum]*, Tableau will execute all the endpoints. If these endpoints were models of certain complexity, then the time required to generate the view will be significant.\n",
    "\n",
    "one way to avoid the overhead and processing involved in executing every endpoint is avoiding multiple calls to the TabPy server. Let us create a single endpoint that will receive the model name as an argument. This new endpoint will implement the model selection logic in python. \n",
    "\n",
    "Notice that when we send a Tableau parameter (a scalar) as an argument to a TabPy endpoint, it will be converted to a list where the parameter value will be replicated as many times as marks in the view. Therefore we will reference the parameter in python as *_arg[0]*.\n",
    "\n",
    "Here is an implementation for the new endpoint. Let us name it **add_with**:"
   ]
  },
  {
   "cell_type": "code",
   "execution_count": 27,
   "metadata": {
    "collapsed": true
   },
   "outputs": [],
   "source": [
    "def add_with(modelName, a, b, verbose = True):\n",
    "    \"\"\" adds the first objects of two array_like objects, returns an object\"\"\"\n",
    "    if modelName[0] == 'UseNumPy':\n",
    "        result = add_numpy(a,b, verbose = False)\n",
    "    elif modelName[0] == 'UseOnlyFirst':\n",
    "        result = add_only_first(a,b, verbose = False)\n",
    "    elif modelName[0] == 'UseSimple':\n",
    "        result = add_simple(a,b, verbose = False)\n",
    "    else:\n",
    "        result = add_lists(a,b, verbose = False)\n",
    "    if verbose:\n",
    "        print('*->  add_with(',modelName[0],',\\n        ',a,',\\n        ',b, '\\n        ) =', result, '\\n')\n",
    "    return(result)\n",
    "\n",
    "conn.deploy('add_with', add_with, \n",
    "            'adds array_like objects item by item, uses the designated model', override = True)\n",
    "            "
   ]
  },
  {
   "attachments": {},
   "cell_type": "markdown",
   "metadata": {},
   "source": [
    "In the Tableau workbook, look at the \"Add Conditional - BETTER\" sheet to see it working\n",
    "\n",
    "To demostrate that this solution is indeed better, is it possible to use Tableau's [performance recording](http://onlinehelp.tableau.com/current/pro/desktop/en-us/perf_record_create_desktop.html \"have a look at the Tableau Desktop help\") \n",
    "\n",
    "This is what I got in one of my tests:\n",
    "!['images/Performance of Tableau Workbook.jpg?raw=true'](images/Performance%20of%20Tableau%20Workbook.jpg)\n",
    "\n",
    "As you can see, we halved execution time with this new approach.\n",
    "\n",
    "### 7. A final comment"
   ]
  },
  {
   "cell_type": "markdown",
   "metadata": {},
   "source": [
    "I cannot finish this document without apologizing to Nico. I have created a drama around a simple question that was answered without much explanation. The truth is that, as of Today, Nico Rabi last logged in the Tableau forums on March 17th, 2017. He probably never considered the solutions Zhouyi proposed on April.\n",
    "\n",
    "I hope that the discussion on Nico's case helped you reading this far, and hopefully getting something useful.\n",
    "\n",
    "Yours,\n",
    "Alfredo Pirrone"
   ]
  }
 ],
 "metadata": {
  "kernelspec": {
   "display_name": "Python 2",
   "language": "python",
   "name": "python2"
  },
  "language_info": {
   "codemirror_mode": {
    "name": "ipython",
    "version": 2
   },
   "file_extension": ".py",
   "mimetype": "text/x-python",
   "name": "python",
   "nbconvert_exporter": "python",
   "pygments_lexer": "ipython2",
   "version": "2.7.13"
  }
 },
 "nbformat": 4,
 "nbformat_minor": 2
}
